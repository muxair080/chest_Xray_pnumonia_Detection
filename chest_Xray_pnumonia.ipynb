{
  "nbformat": 4,
  "nbformat_minor": 0,
  "metadata": {
    "colab": {
      "provenance": [],
      "include_colab_link": true
    },
    "kernelspec": {
      "name": "python3",
      "display_name": "Python 3"
    },
    "language_info": {
      "name": "python"
    },
    "accelerator": "GPU",
    "gpuClass": "standard"
  },
  "cells": [
    {
      "cell_type": "markdown",
      "metadata": {
        "id": "view-in-github",
        "colab_type": "text"
      },
      "source": [
        "<a href=\"https://colab.research.google.com/github/muxair080/chest_Xray_pnumonia_Detection/blob/main/chest_Xray_pnumonia.ipynb\" target=\"_parent\"><img src=\"https://colab.research.google.com/assets/colab-badge.svg\" alt=\"Open In Colab\"/></a>"
      ]
    },
    {
      "cell_type": "code",
      "execution_count": 6,
      "metadata": {
        "id": "C2dsSREUie2x"
      },
      "outputs": [],
      "source": [
        "!mkdir -p ~/.kaggle\n",
        "!cp kaggle.json ~/.kaggle/"
      ]
    },
    {
      "cell_type": "markdown",
      "source": [
        "# Download Dataset from kaggle\n"
      ],
      "metadata": {
        "id": "-hMfWdzjikno"
      }
    },
    {
      "cell_type": "code",
      "source": [
        "!kaggle datasets download -d paultimothymooney/chest-xray-pneumonia"
      ],
      "metadata": {
        "colab": {
          "base_uri": "https://localhost:8080/"
        },
        "id": "JCQbqgMtimOe",
        "outputId": "f4a16e31-ad94-42c9-af66-b48b99ae380e"
      },
      "execution_count": 7,
      "outputs": [
        {
          "output_type": "stream",
          "name": "stdout",
          "text": [
            "Warning: Your Kaggle API key is readable by other users on this system! To fix this, you can run 'chmod 600 /root/.kaggle/kaggle.json'\n",
            "Downloading chest-xray-pneumonia.zip to /content\n",
            "100% 2.29G/2.29G [01:51<00:00, 19.9MB/s]\n",
            "100% 2.29G/2.29G [01:51<00:00, 22.1MB/s]\n"
          ]
        }
      ]
    },
    {
      "cell_type": "markdown",
      "source": [
        "# Unzip Dataset folder"
      ],
      "metadata": {
        "id": "heTmYgnHiozj"
      }
    },
    {
      "cell_type": "code",
      "source": [
        "import zipfile\n",
        "zip_ref = zipfile.ZipFile('/content/chest-xray-pneumonia.zip')\n",
        "zip_ref.extractall('/content')\n",
        "zip_ref.close()"
      ],
      "metadata": {
        "id": "WdaXprNiisgr"
      },
      "execution_count": 8,
      "outputs": []
    },
    {
      "cell_type": "markdown",
      "source": [
        "# Dependencies"
      ],
      "metadata": {
        "id": "RKdKqyPoiy4F"
      }
    },
    {
      "cell_type": "code",
      "source": [
        "from tensorflow.keras.layers import Input, Lambda, Dense, Flatten,Dropout, MaxPooling2D,Dropout\n",
        "from tensorflow.keras.models import Model\n",
        "from tensorflow.keras.applications.vgg16 import VGG16\n",
        "from keras.applications.vgg16 import preprocess_input\n",
        "from keras.preprocessing import image\n",
        "from keras.preprocessing.image import ImageDataGenerator\n",
        "from keras.models import Sequential\n",
        "import numpy as np\n",
        "import matplotlib.pyplot as plt\n",
        "import pandas as pd\n",
        "from glob import glob\n",
        "import os\n",
        "import cv2"
      ],
      "metadata": {
        "id": "VXjDVmV1i02b"
      },
      "execution_count": 106,
      "outputs": []
    },
    {
      "cell_type": "code",
      "source": [
        "DIRECTORY = r'/content/chest_xray/chest_xray'\n",
        "FOLDERS = ['test','train', 'val']\n",
        "CLASS = ['NORMAL','PNEUMONIA']\n"
      ],
      "metadata": {
        "id": "nK6D8W5si6dZ"
      },
      "execution_count": 107,
      "outputs": []
    },
    {
      "cell_type": "code",
      "source": [
        "test_data = []\n",
        "train_data = []\n",
        "val_data  = []\n",
        "\n",
        "for folder in FOLDERS:\n",
        "  folder_path = os.path.join(DIRECTORY, folder)\n",
        "  for classification in CLASS:\n",
        "    image_path = os.path.join(folder_path, classification)\n",
        "    for image in os.listdir(image_path):\n",
        "      try:\n",
        "        image_url = os.path.join(image_path, image)\n",
        "        arr = cv2.imread(image_url)\n",
        "        arr = cv2.resize(arr, (100, 100))\n",
        "        label = CLASS.index(classification)\n",
        "        if folder == 'train':\n",
        "          train_data.append([arr, label])\n",
        "        elif folder == 'test':\n",
        "          test_data.append([arr, label])\n",
        "        else:\n",
        "          val_data.append([arr, label])\n",
        "      \n",
        "      except Exception as e:\n",
        "        print(e)"
      ],
      "metadata": {
        "colab": {
          "base_uri": "https://localhost:8080/"
        },
        "id": "Eky26YeIjKtB",
        "outputId": "ac46464c-d93e-4dc9-e29f-2493e059ab5c"
      },
      "execution_count": 108,
      "outputs": [
        {
          "output_type": "stream",
          "name": "stdout",
          "text": [
            "OpenCV(4.6.0) /io/opencv/modules/imgproc/src/resize.cpp:4052: error: (-215:Assertion failed) !ssize.empty() in function 'resize'\n",
            "\n",
            "OpenCV(4.6.0) /io/opencv/modules/imgproc/src/resize.cpp:4052: error: (-215:Assertion failed) !ssize.empty() in function 'resize'\n",
            "\n",
            "OpenCV(4.6.0) /io/opencv/modules/imgproc/src/resize.cpp:4052: error: (-215:Assertion failed) !ssize.empty() in function 'resize'\n",
            "\n",
            "OpenCV(4.6.0) /io/opencv/modules/imgproc/src/resize.cpp:4052: error: (-215:Assertion failed) !ssize.empty() in function 'resize'\n",
            "\n"
          ]
        }
      ]
    },
    {
      "cell_type": "code",
      "source": [
        "print(len(train_data))\n",
        "print(len(test_data))\n",
        "print(len(val_data))"
      ],
      "metadata": {
        "colab": {
          "base_uri": "https://localhost:8080/"
        },
        "id": "zIeNobWokqcN",
        "outputId": "148605ca-17d4-4717-c6f8-507aec168cf7"
      },
      "execution_count": 109,
      "outputs": [
        {
          "output_type": "stream",
          "name": "stdout",
          "text": [
            "5216\n",
            "624\n",
            "16\n"
          ]
        }
      ]
    },
    {
      "cell_type": "code",
      "source": [
        "import random\n",
        "random.shuffle(train_data)"
      ],
      "metadata": {
        "id": "i2UUUBKZlh72"
      },
      "execution_count": 110,
      "outputs": []
    },
    {
      "cell_type": "markdown",
      "source": [
        "# Seperating Dependent and Independent features"
      ],
      "metadata": {
        "id": "pDxrmjKPmAPR"
      }
    },
    {
      "cell_type": "code",
      "source": [
        "X = []\n",
        "y = []\n",
        "\n",
        "for feature, label in train_data:\n",
        "  X.append(feature)\n",
        "  y.append(label)"
      ],
      "metadata": {
        "id": "Dpx155uWlwqR"
      },
      "execution_count": 111,
      "outputs": []
    },
    {
      "cell_type": "code",
      "source": [
        "X = np.array(X)\n",
        "y = np.array(y)"
      ],
      "metadata": {
        "id": "vFoto1UnmDKq"
      },
      "execution_count": 112,
      "outputs": []
    },
    {
      "cell_type": "code",
      "source": [
        "X.shape"
      ],
      "metadata": {
        "colab": {
          "base_uri": "https://localhost:8080/"
        },
        "id": "B5MlJZKDmPeC",
        "outputId": "af18fd57-f083-4162-e918-ed7a0877534a"
      },
      "execution_count": 113,
      "outputs": [
        {
          "output_type": "execute_result",
          "data": {
            "text/plain": [
              "(5216, 100, 100, 3)"
            ]
          },
          "metadata": {},
          "execution_count": 113
        }
      ]
    },
    {
      "cell_type": "code",
      "source": [
        "y.shape"
      ],
      "metadata": {
        "colab": {
          "base_uri": "https://localhost:8080/"
        },
        "id": "CQp80pVPH5kS",
        "outputId": "fc3ae6c9-777e-4d99-ea4c-f62c3456f987"
      },
      "execution_count": 114,
      "outputs": [
        {
          "output_type": "execute_result",
          "data": {
            "text/plain": [
              "(5216,)"
            ]
          },
          "metadata": {},
          "execution_count": 114
        }
      ]
    },
    {
      "cell_type": "code",
      "source": [
        "X = X.reshape(-1,100,100,3)\n",
        "\n",
        "# X = np.expand_dims(X, axis=1)"
      ],
      "metadata": {
        "id": "MXRZFIivH9tg"
      },
      "execution_count": 115,
      "outputs": []
    },
    {
      "cell_type": "code",
      "source": [
        "X.shape"
      ],
      "metadata": {
        "colab": {
          "base_uri": "https://localhost:8080/"
        },
        "id": "KBhfP-TUIA1-",
        "outputId": "c5588731-b68e-4188-b38a-dab2142e628c"
      },
      "execution_count": 116,
      "outputs": [
        {
          "output_type": "execute_result",
          "data": {
            "text/plain": [
              "(5216, 100, 100, 3)"
            ]
          },
          "metadata": {},
          "execution_count": 116
        }
      ]
    },
    {
      "cell_type": "markdown",
      "source": [
        "# normalization"
      ],
      "metadata": {
        "id": "tu1hlu4Fmi-5"
      }
    },
    {
      "cell_type": "code",
      "source": [
        "X = X/255"
      ],
      "metadata": {
        "id": "xe4_NWKFmSmz"
      },
      "execution_count": 117,
      "outputs": []
    },
    {
      "cell_type": "code",
      "source": [
        "X.shape"
      ],
      "metadata": {
        "colab": {
          "base_uri": "https://localhost:8080/"
        },
        "id": "LLAXLVkbmQk9",
        "outputId": "158a86f5-8bbf-4551-b6e9-d1257c3c6fb6"
      },
      "execution_count": 118,
      "outputs": [
        {
          "output_type": "execute_result",
          "data": {
            "text/plain": [
              "(5216, 100, 100, 3)"
            ]
          },
          "metadata": {},
          "execution_count": 118
        }
      ]
    },
    {
      "cell_type": "code",
      "source": [
        "X.shape[1:]"
      ],
      "metadata": {
        "colab": {
          "base_uri": "https://localhost:8080/"
        },
        "id": "pR6lZzOlmmZs",
        "outputId": "9f306262-193a-4a5a-f816-82cf53ab04c9"
      },
      "execution_count": 119,
      "outputs": [
        {
          "output_type": "execute_result",
          "data": {
            "text/plain": [
              "(100, 100, 3)"
            ]
          },
          "metadata": {},
          "execution_count": 119
        }
      ]
    },
    {
      "cell_type": "code",
      "source": [
        "from tensorflow.keras.layers import Conv2D,MaxPool2D,Flatten,Dense,Dropout\n",
        "from tensorflow.keras.models import Sequential \n"
      ],
      "metadata": {
        "id": "FJpEEo3qmoQY"
      },
      "execution_count": 120,
      "outputs": []
    },
    {
      "cell_type": "code",
      "source": [
        "model = Sequential()"
      ],
      "metadata": {
        "id": "zoAMEwENmzLq"
      },
      "execution_count": 121,
      "outputs": []
    },
    {
      "cell_type": "markdown",
      "source": [
        "# Build CNN Mode"
      ],
      "metadata": {
        "id": "cJc743TEooEi"
      }
    },
    {
      "cell_type": "code",
      "source": [
        "# layer1\n",
        "model.add(Conv2D(100, (3,3), activation='relu'))\n",
        "model.add(MaxPool2D(2,2))\n",
        "\n",
        "# layer2\n",
        "model.add(Conv2D(100,(3,3), activation='relu'))\n",
        "model.add(MaxPool2D(2,2))\n",
        "model.add(Dropout(0.25))\n",
        "\n",
        "# layer3\n",
        "model.add(Conv2D(100,(3,3), activation='relu'))\n",
        "model.add(MaxPool2D(2,2))\n",
        "model.add(Dropout(0.25))\n",
        "\n",
        "# layer4\n",
        "model.add(Conv2D(100,(3,3), activation='relu'))\n",
        "model.add(MaxPool2D(2,2))\n",
        "model.add(Dropout(0.25))\n",
        "\n",
        "#Flatten\n",
        "model.add(Flatten())\n",
        "\n",
        "# Dense Layer\n",
        "\n",
        "model.add(Dense(256,  activation='relu'))\n",
        "model.add(Dense(256, activation='relu'))\n",
        "model.add(Dense(128, activation='relu'))\n",
        "\n",
        "# Output layer\n",
        "model.add(Dense(2, activation='sigmoid'))\n"
      ],
      "metadata": {
        "id": "KLdyLn9bnF6G"
      },
      "execution_count": 122,
      "outputs": []
    },
    {
      "cell_type": "markdown",
      "source": [
        "# Compile Model"
      ],
      "metadata": {
        "id": "OJJQ-z--orEa"
      }
    },
    {
      "cell_type": "code",
      "source": [
        "model.compile(\n",
        "              loss='sparse_categorical_crossentropy',\n",
        "              optimizer='adam',\n",
        "              metrics=['accuracy']\n",
        "              )"
      ],
      "metadata": {
        "id": "UN9BJ7QmonB3"
      },
      "execution_count": 123,
      "outputs": []
    },
    {
      "cell_type": "code",
      "source": [
        "model.summary()"
      ],
      "metadata": {
        "colab": {
          "base_uri": "https://localhost:8080/"
        },
        "id": "hfabn9SITC7l",
        "outputId": "17a6ea83-bdac-4ecf-f298-2c6015fdd632"
      },
      "execution_count": 162,
      "outputs": [
        {
          "output_type": "stream",
          "name": "stdout",
          "text": [
            "Model: \"sequential_3\"\n",
            "_________________________________________________________________\n",
            " Layer (type)                Output Shape              Param #   \n",
            "=================================================================\n",
            " conv2d_35 (Conv2D)          (None, None, None, 100)   2800      \n",
            "                                                                 \n",
            " max_pooling2d_23 (MaxPoolin  (None, None, None, 100)  0         \n",
            " g2D)                                                            \n",
            "                                                                 \n",
            " conv2d_36 (Conv2D)          (None, None, None, 100)   90100     \n",
            "                                                                 \n",
            " max_pooling2d_24 (MaxPoolin  (None, None, None, 100)  0         \n",
            " g2D)                                                            \n",
            "                                                                 \n",
            " dropout (Dropout)           (None, None, None, 100)   0         \n",
            "                                                                 \n",
            " conv2d_37 (Conv2D)          (None, None, None, 100)   90100     \n",
            "                                                                 \n",
            " max_pooling2d_25 (MaxPoolin  (None, None, None, 100)  0         \n",
            " g2D)                                                            \n",
            "                                                                 \n",
            " dropout_1 (Dropout)         (None, None, None, 100)   0         \n",
            "                                                                 \n",
            " conv2d_38 (Conv2D)          (None, None, None, 100)   90100     \n",
            "                                                                 \n",
            " max_pooling2d_26 (MaxPoolin  (None, None, None, 100)  0         \n",
            " g2D)                                                            \n",
            "                                                                 \n",
            " dropout_2 (Dropout)         (None, None, None, 100)   0         \n",
            "                                                                 \n",
            " flatten_5 (Flatten)         (None, None)              0         \n",
            "                                                                 \n",
            " dense_20 (Dense)            (None, 256)               409856    \n",
            "                                                                 \n",
            " dense_21 (Dense)            (None, 256)               65792     \n",
            "                                                                 \n",
            " dense_22 (Dense)            (None, 128)               32896     \n",
            "                                                                 \n",
            " dense_23 (Dense)            (None, 2)                 258       \n",
            "                                                                 \n",
            "=================================================================\n",
            "Total params: 781,902\n",
            "Trainable params: 781,902\n",
            "Non-trainable params: 0\n",
            "_________________________________________________________________\n"
          ]
        }
      ]
    },
    {
      "cell_type": "code",
      "source": [
        "r = model.fit(X, y, epochs=10, batch_size=30, validation_split=0.2)"
      ],
      "metadata": {
        "id": "wO4XdhR3o6ex",
        "colab": {
          "base_uri": "https://localhost:8080/"
        },
        "outputId": "fc2dfa5b-fb24-4970-d829-c9221b10361e"
      },
      "execution_count": 124,
      "outputs": [
        {
          "output_type": "stream",
          "name": "stdout",
          "text": [
            "Epoch 1/10\n",
            "140/140 [==============================] - 5s 31ms/step - loss: 0.5128 - accuracy: 0.7713 - val_loss: 0.3355 - val_accuracy: 0.8381\n",
            "Epoch 2/10\n",
            "140/140 [==============================] - 4s 27ms/step - loss: 0.2515 - accuracy: 0.8938 - val_loss: 0.1776 - val_accuracy: 0.9397\n",
            "Epoch 3/10\n",
            "140/140 [==============================] - 4s 26ms/step - loss: 0.1679 - accuracy: 0.9355 - val_loss: 0.1521 - val_accuracy: 0.9579\n",
            "Epoch 4/10\n",
            "140/140 [==============================] - 4s 26ms/step - loss: 0.1459 - accuracy: 0.9477 - val_loss: 0.1202 - val_accuracy: 0.9636\n",
            "Epoch 5/10\n",
            "140/140 [==============================] - 4s 26ms/step - loss: 0.1233 - accuracy: 0.9535 - val_loss: 0.1061 - val_accuracy: 0.9607\n",
            "Epoch 6/10\n",
            "140/140 [==============================] - 4s 26ms/step - loss: 0.1145 - accuracy: 0.9578 - val_loss: 0.1104 - val_accuracy: 0.9626\n",
            "Epoch 7/10\n",
            "140/140 [==============================] - 4s 26ms/step - loss: 0.1035 - accuracy: 0.9633 - val_loss: 0.0892 - val_accuracy: 0.9636\n",
            "Epoch 8/10\n",
            "140/140 [==============================] - 4s 26ms/step - loss: 0.0983 - accuracy: 0.9652 - val_loss: 0.1091 - val_accuracy: 0.9636\n",
            "Epoch 9/10\n",
            "140/140 [==============================] - 4s 26ms/step - loss: 0.0877 - accuracy: 0.9669 - val_loss: 0.0778 - val_accuracy: 0.9693\n",
            "Epoch 10/10\n",
            "140/140 [==============================] - 4s 26ms/step - loss: 0.0788 - accuracy: 0.9712 - val_loss: 0.0854 - val_accuracy: 0.9732\n"
          ]
        }
      ]
    },
    {
      "cell_type": "code",
      "source": [
        "import matplotlib.pyplot as plt\n",
        "%matplotlib inline"
      ],
      "metadata": {
        "id": "aGaQiQNZpL1Q"
      },
      "execution_count": 125,
      "outputs": []
    },
    {
      "cell_type": "code",
      "source": [
        "plt.plot(r.history['loss'])\n",
        "plt.plot(r.history['val_loss'])\n",
        "plt.title('model loss')\n",
        "plt.ylabel('loss')\n",
        "plt.xlabel('epoch')\n",
        "plt.legend(['train', 'validation'], loc='upper left')\n",
        "plt.show()"
      ],
      "metadata": {
        "id": "BVThDuWlpSPz",
        "colab": {
          "base_uri": "https://localhost:8080/",
          "height": 295
        },
        "outputId": "2cb65701-ead9-4a20-f1c4-22a8566e42ed"
      },
      "execution_count": 126,
      "outputs": [
        {
          "output_type": "display_data",
          "data": {
            "text/plain": [
              "<Figure size 432x288 with 1 Axes>"
            ],
            "image/png": "[encoded data removed]"
          },
          "metadata": {
            "needs_background": "light"
          }
        }
      ]
    },
    {
      "cell_type": "markdown",
      "source": [
        "# Accuracy Graph"
      ],
      "metadata": {
        "id": "OP5kmqvcPNBL"
      }
    },
    {
      "cell_type": "code",
      "source": [
        "plt.plot(r.history['accuracy'])\n",
        "plt.plot(r.history['val_accuracy'])\n",
        "plt.title('model Accuracy')\n",
        "plt.ylabel('Accuracy')\n",
        "plt.xlabel('epoch')\n",
        "plt.legend(['train', 'validation'], loc='upper left')\n",
        "plt.show()"
      ],
      "metadata": {
        "colab": {
          "base_uri": "https://localhost:8080/",
          "height": 295
        },
        "id": "T0u0fYUePAAM",
        "outputId": "dbd21f36-2231-4fd0-a6db-d41e36e38a8b"
      },
      "execution_count": 127,
      "outputs": [
        {
          "output_type": "display_data",
          "data": {
            "text/plain": [
              "<Figure size 432x288 with 1 Axes>"
            ],
            "image/png": "[encoded data removed]"
          },
          "metadata": {
            "needs_background": "light"
          }
        }
      ]
    },
    {
      "cell_type": "code",
      "source": [
        "from tensorflow.keras.utils import load_img, img_to_array"
      ],
      "metadata": {
        "id": "7K95HLJGPPx6"
      },
      "execution_count": 141,
      "outputs": []
    },
    {
      "cell_type": "code",
      "source": [
        "# img = load_img('/content/chest_xray/chest_xray/test/NORMAL/IM-0007-0001.jpeg')\n",
        "img = load_img('/content/chest_xray/chest_xray/test/NORMAL/NORMAL2-IM-0301-0001.jpeg')"
      ],
      "metadata": {
        "id": "LG7qqOtFPtMp"
      },
      "execution_count": 180,
      "outputs": []
    },
    {
      "cell_type": "code",
      "source": [],
      "metadata": {
        "id": "s9w-c_0IVxOT"
      },
      "execution_count": null,
      "outputs": []
    },
    {
      "cell_type": "code",
      "source": [
        "# img = load_img('/content/chest_xray/chest_xray/test/PNEUMONIA/person117_bacteria_553.jpeg')\n",
        "img = load_img('/content/chest_xray/chest_xray/val/PNEUMONIA/person1950_bacteria_4881.jpeg')"
      ],
      "metadata": {
        "id": "qdZwNt0aVZNB"
      },
      "execution_count": 185,
      "outputs": []
    },
    {
      "cell_type": "code",
      "source": [
        "val_data_pneumonia = glob('/content/chest_xray/chest_xray/val/PNEUMONIA/*')"
      ],
      "metadata": {
        "id": "FyfFifaXVyj-"
      },
      "execution_count": 195,
      "outputs": []
    },
    {
      "cell_type": "code",
      "source": [
        "for img in val_data_pneumonia:\n",
        "  CLASS = ['NORMAL', 'PNEUMONIA']\n",
        "  img = load_img(img)\n",
        "  # arr = cv2.imread(img)\n",
        "  arr = img_to_array(img)\n",
        "  arr = cv2.resize(arr, (100,100))\n",
        "  arr = arr.reshape(-1, 100,100,3)\n",
        "  arr = arr/255\n",
        "\n",
        "  prediction = model.predict([arr])\n",
        "  print(prediction)\n",
        "  print(CLASS[prediction.argmax()])\n"
      ],
      "metadata": {
        "colab": {
          "base_uri": "https://localhost:8080/"
        },
        "id": "XlScGwi-V-AG",
        "outputId": "8fdceea0-0a0b-4438-d81b-254eade508ce"
      },
      "execution_count": 196,
      "outputs": [
        {
          "output_type": "stream",
          "name": "stdout",
          "text": [
            "1/1 [==============================] - 0s 17ms/step\n",
            "[[0.02346611 0.9631979 ]]\n",
            "PNEUMONIA\n",
            "1/1 [==============================] - 0s 15ms/step\n",
            "[[0.04290246 0.9334392 ]]\n",
            "PNEUMONIA\n",
            "1/1 [==============================] - 0s 15ms/step\n",
            "[[8.772563e-04 9.968995e-01]]\n",
            "PNEUMONIA\n",
            "1/1 [==============================] - 0s 14ms/step\n",
            "[[0.03021405 0.95336324]]\n",
            "PNEUMONIA\n",
            "1/1 [==============================] - 0s 20ms/step\n",
            "[[0.0059375 0.9864161]]\n",
            "PNEUMONIA\n",
            "1/1 [==============================] - 0s 15ms/step\n",
            "[[0.00134147 0.9954098 ]]\n",
            "PNEUMONIA\n",
            "1/1 [==============================] - 0s 17ms/step\n",
            "[[5.105038e-04 9.979043e-01]]\n",
            "PNEUMONIA\n",
            "1/1 [==============================] - 0s 16ms/step\n",
            "[[0.03424986 0.9451602 ]]\n",
            "PNEUMONIA\n"
          ]
        }
      ]
    },
    {
      "cell_type": "code",
      "source": [
        "val_data_normal = glob('/content/chest_xray/chest_xray/val/NORMAL/*')"
      ],
      "metadata": {
        "id": "iTWiywUVWXHr"
      },
      "execution_count": 197,
      "outputs": []
    },
    {
      "cell_type": "code",
      "source": [
        "for img in val_data_normal:\n",
        "  CLASS = ['NORMAL', 'PNEUMONIA']\n",
        "  img = load_img(img)\n",
        "  # arr = cv2.imread(img)\n",
        "  arr = img_to_array(img)\n",
        "  arr = cv2.resize(arr, (100,100))\n",
        "  arr = arr.reshape(-1, 100,100,3)\n",
        "  arr = arr/255\n",
        "\n",
        "  prediction = model.predict([arr])\n",
        "  print(prediction)\n",
        "  print(CLASS[prediction.argmax()])\n"
      ],
      "metadata": {
        "colab": {
          "base_uri": "https://localhost:8080/"
        },
        "id": "wpwkz768WZ4B",
        "outputId": "8875cc41-5a4d-454a-e503-75f540631610"
      },
      "execution_count": 198,
      "outputs": [
        {
          "output_type": "stream",
          "name": "stdout",
          "text": [
            "1/1 [==============================] - 0s 18ms/step\n",
            "[[0.8246807  0.18965834]]\n",
            "NORMAL\n",
            "1/1 [==============================] - 0s 17ms/step\n",
            "[[0.36868566 0.61543435]]\n",
            "PNEUMONIA\n",
            "1/1 [==============================] - 0s 15ms/step\n",
            "[[0.7537678  0.26118445]]\n",
            "NORMAL\n",
            "1/1 [==============================] - 0s 14ms/step\n",
            "[[0.9200634  0.10044025]]\n",
            "NORMAL\n",
            "1/1 [==============================] - 0s 16ms/step\n",
            "[[0.4299309  0.52285135]]\n",
            "PNEUMONIA\n",
            "1/1 [==============================] - 0s 14ms/step\n",
            "[[0.3448567 0.638862 ]]\n",
            "PNEUMONIA\n",
            "1/1 [==============================] - 0s 16ms/step\n",
            "[[0.47704867 0.48477855]]\n",
            "PNEUMONIA\n",
            "1/1 [==============================] - 0s 15ms/step\n",
            "[[0.8227096  0.19477043]]\n",
            "NORMAL\n"
          ]
        }
      ]
    },
    {
      "cell_type": "code",
      "source": [
        "CLASS = ['NORMAL', 'PNEUMONIA']\n",
        "\n",
        "# arr = cv2.imread(img)\n",
        "arr = img_to_array(img)\n",
        "arr = cv2.resize(arr, (100,100))\n",
        "arr = arr.reshape(-1, 100,100,3)\n",
        "arr = arr/255\n",
        "\n",
        "prediction = model.predict([arr])\n",
        "print(prediction)\n",
        "print(CLASS[prediction.argmax()])"
      ],
      "metadata": {
        "colab": {
          "base_uri": "https://localhost:8080/"
        },
        "id": "4aRf0OxjURb-",
        "outputId": "9b732a8d-8c1e-41b7-910e-daa45d70f524"
      },
      "execution_count": 186,
      "outputs": [
        {
          "output_type": "stream",
          "name": "stdout",
          "text": [
            "1/1 [==============================] - 0s 17ms/step\n",
            "[[0.03021405 0.95336324]]\n",
            "PNEUMONIA\n"
          ]
        }
      ]
    },
    {
      "cell_type": "code",
      "source": [],
      "metadata": {
        "id": "6WBEy6oBURYT"
      },
      "execution_count": null,
      "outputs": []
    },
    {
      "cell_type": "code",
      "source": [],
      "metadata": {
        "id": "l68-TfOdURVB"
      },
      "execution_count": null,
      "outputs": []
    },
    {
      "cell_type": "code",
      "source": [],
      "metadata": {
        "id": "CYneFOcQURJR"
      },
      "execution_count": null,
      "outputs": []
    }
  ]
}